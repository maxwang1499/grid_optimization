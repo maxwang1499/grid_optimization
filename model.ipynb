{
 "cells": [
  {
   "attachments": {},
   "cell_type": "markdown",
   "metadata": {},
   "source": [
    "## Environment Installation \n",
    "To start, let's install the environment in which our RL agent can learn from interactions. It runs under the Grid2op platform."
   ]
  },
  {
   "cell_type": "code",
   "execution_count": 2,
   "metadata": {},
   "outputs": [
    {
     "name": "stdout",
     "output_type": "stream",
     "text": [
      "Requirement already satisfied: grid2op in c:\\users\\maxwa\\anaconda3\\envs\\rl\\lib\\site-packages (1.8.1)\n",
      "Requirement already satisfied: pandapower>=2.2.2 in c:\\users\\maxwa\\anaconda3\\envs\\rl\\lib\\site-packages (from grid2op) (2.11.1)\n",
      "Requirement already satisfied: packaging in c:\\users\\maxwa\\anaconda3\\envs\\rl\\lib\\site-packages (from grid2op) (20.9)\n",
      "Requirement already satisfied: requests>=2.23.0 in c:\\users\\maxwa\\anaconda3\\envs\\rl\\lib\\site-packages (from grid2op) (2.28.1)\n",
      "Requirement already satisfied: numpy>=1.20 in c:\\users\\maxwa\\anaconda3\\envs\\rl\\lib\\site-packages (from grid2op) (1.24.1)\n",
      "Requirement already satisfied: tqdm>=4.45.0 in c:\\users\\maxwa\\anaconda3\\envs\\rl\\lib\\site-packages (from grid2op) (4.65.0)\n",
      "Requirement already satisfied: networkx>=2.4 in c:\\users\\maxwa\\anaconda3\\envs\\rl\\lib\\site-packages (from grid2op) (3.1)\n",
      "Requirement already satisfied: scipy>=1.4.1 in c:\\users\\maxwa\\anaconda3\\envs\\rl\\lib\\site-packages (from grid2op) (1.10.1)\n",
      "Requirement already satisfied: pandas>=1.0.3 in c:\\users\\maxwa\\anaconda3\\envs\\rl\\lib\\site-packages (from grid2op) (1.5.3)\n",
      "Requirement already satisfied: deepdiff in c:\\users\\maxwa\\anaconda3\\envs\\rl\\lib\\site-packages (from pandapower>=2.2.2->grid2op) (6.3.0)\n",
      "Requirement already satisfied: python-dateutil>=2.8.1 in c:\\users\\maxwa\\anaconda3\\envs\\rl\\lib\\site-packages (from pandas>=1.0.3->grid2op) (2.8.2)\n",
      "Requirement already satisfied: pytz>=2020.1 in c:\\users\\maxwa\\anaconda3\\envs\\rl\\lib\\site-packages (from pandas>=1.0.3->grid2op) (2022.7)\n",
      "Requirement already satisfied: certifi>=2017.4.17 in c:\\users\\maxwa\\anaconda3\\envs\\rl\\lib\\site-packages (from requests>=2.23.0->grid2op) (2022.12.7)\n",
      "Requirement already satisfied: idna<4,>=2.5 in c:\\users\\maxwa\\anaconda3\\envs\\rl\\lib\\site-packages (from requests>=2.23.0->grid2op) (3.4)\n",
      "Requirement already satisfied: charset-normalizer<3,>=2 in c:\\users\\maxwa\\anaconda3\\envs\\rl\\lib\\site-packages (from requests>=2.23.0->grid2op) (2.0.4)\n",
      "Requirement already satisfied: urllib3<1.27,>=1.21.1 in c:\\users\\maxwa\\anaconda3\\envs\\rl\\lib\\site-packages (from requests>=2.23.0->grid2op) (1.26.14)\n",
      "Requirement already satisfied: colorama in c:\\users\\maxwa\\anaconda3\\envs\\rl\\lib\\site-packages (from tqdm>=4.45.0->grid2op) (0.4.6)\n",
      "Requirement already satisfied: pyparsing>=2.0.2 in c:\\users\\maxwa\\anaconda3\\envs\\rl\\lib\\site-packages (from packaging->grid2op) (2.4.7)\n",
      "Requirement already satisfied: six>=1.5 in c:\\users\\maxwa\\anaconda3\\envs\\rl\\lib\\site-packages (from python-dateutil>=2.8.1->pandas>=1.0.3->grid2op) (1.16.0)\n",
      "Requirement already satisfied: ordered-set<4.2.0,>=4.0.2 in c:\\users\\maxwa\\anaconda3\\envs\\rl\\lib\\site-packages (from deepdiff->pandapower>=2.2.2->grid2op) (4.1.0)\n",
      "Note: you may need to restart the kernel to use updated packages.\n"
     ]
    },
    {
     "name": "stderr",
     "output_type": "stream",
     "text": [
      "WARNING: Ignoring invalid distribution -yrsistent (c:\\users\\maxwa\\anaconda3\\envs\\rl\\lib\\site-packages)\n",
      "WARNING: Ignoring invalid distribution -yrsistent (c:\\users\\maxwa\\anaconda3\\envs\\rl\\lib\\site-packages)\n",
      "WARNING: Ignoring invalid distribution -yrsistent (c:\\users\\maxwa\\anaconda3\\envs\\rl\\lib\\site-packages)\n",
      "WARNING: Ignoring invalid distribution -yrsistent (c:\\users\\maxwa\\anaconda3\\envs\\rl\\lib\\site-packages)\n",
      "WARNING: Ignoring invalid distribution -yrsistent (c:\\users\\maxwa\\anaconda3\\envs\\rl\\lib\\site-packages)\n",
      "WARNING: Ignoring invalid distribution -yrsistent (c:\\users\\maxwa\\anaconda3\\envs\\rl\\lib\\site-packages)\n"
     ]
    }
   ],
   "source": [
    "pip install grid2op"
   ]
  },
  {
   "attachments": {},
   "cell_type": "markdown",
   "metadata": {},
   "source": [
    "Similarly the \"baseline\" python package can be installed with:"
   ]
  },
  {
   "cell_type": "code",
   "execution_count": 3,
   "metadata": {},
   "outputs": [
    {
     "name": "stdout",
     "output_type": "stream",
     "text": [
      "Collecting l2rpn-baselines\n",
      "  Downloading l2rpn_baselines-0.6.0.post1.tar.gz (212 kB)\n",
      "     ------------------------------------- 212.7/212.7 kB 13.5 MB/s eta 0:00:00\n",
      "  Preparing metadata (setup.py): started\n",
      "  Preparing metadata (setup.py): finished with status 'done'\n",
      "Requirement already satisfied: grid2op in c:\\users\\maxwa\\anaconda3\\envs\\rl\\lib\\site-packages (from l2rpn-baselines) (1.8.1)\n",
      "Collecting statsmodels>=0.11.1\n",
      "  Downloading statsmodels-0.13.5-cp310-cp310-win_amd64.whl (9.1 MB)\n",
      "     ---------------------------------------- 9.1/9.1 MB 13.9 MB/s eta 0:00:00\n",
      "Requirement already satisfied: scipy>=1.4.1 in c:\\users\\maxwa\\anaconda3\\envs\\rl\\lib\\site-packages (from l2rpn-baselines) (1.10.1)\n",
      "Requirement already satisfied: numpy in c:\\users\\maxwa\\anaconda3\\envs\\rl\\lib\\site-packages (from l2rpn-baselines) (1.24.1)\n",
      "Requirement already satisfied: gym>=0.17.2 in c:\\users\\maxwa\\anaconda3\\envs\\rl\\lib\\site-packages (from l2rpn-baselines) (0.26.2)\n",
      "Requirement already satisfied: cloudpickle>=1.2.0 in c:\\users\\maxwa\\anaconda3\\envs\\rl\\lib\\site-packages (from gym>=0.17.2->l2rpn-baselines) (2.2.1)\n",
      "Requirement already satisfied: gym-notices>=0.0.4 in c:\\users\\maxwa\\anaconda3\\envs\\rl\\lib\\site-packages (from gym>=0.17.2->l2rpn-baselines) (0.0.8)\n",
      "Requirement already satisfied: pandas>=0.25 in c:\\users\\maxwa\\anaconda3\\envs\\rl\\lib\\site-packages (from statsmodels>=0.11.1->l2rpn-baselines) (1.5.3)\n",
      "Collecting patsy>=0.5.2\n",
      "  Using cached patsy-0.5.3-py2.py3-none-any.whl (233 kB)\n",
      "Collecting packaging>=21.3\n",
      "  Using cached packaging-23.0-py3-none-any.whl (42 kB)\n",
      "Requirement already satisfied: tqdm>=4.45.0 in c:\\users\\maxwa\\anaconda3\\envs\\rl\\lib\\site-packages (from grid2op->l2rpn-baselines) (4.65.0)\n",
      "Requirement already satisfied: networkx>=2.4 in c:\\users\\maxwa\\anaconda3\\envs\\rl\\lib\\site-packages (from grid2op->l2rpn-baselines) (3.1)\n",
      "Requirement already satisfied: pandapower>=2.2.2 in c:\\users\\maxwa\\anaconda3\\envs\\rl\\lib\\site-packages (from grid2op->l2rpn-baselines) (2.11.1)\n",
      "Requirement already satisfied: requests>=2.23.0 in c:\\users\\maxwa\\anaconda3\\envs\\rl\\lib\\site-packages (from grid2op->l2rpn-baselines) (2.28.1)\n",
      "Requirement already satisfied: deepdiff in c:\\users\\maxwa\\anaconda3\\envs\\rl\\lib\\site-packages (from pandapower>=2.2.2->grid2op->l2rpn-baselines) (6.3.0)\n",
      "Requirement already satisfied: python-dateutil>=2.8.1 in c:\\users\\maxwa\\anaconda3\\envs\\rl\\lib\\site-packages (from pandas>=0.25->statsmodels>=0.11.1->l2rpn-baselines) (2.8.2)\n",
      "Requirement already satisfied: pytz>=2020.1 in c:\\users\\maxwa\\anaconda3\\envs\\rl\\lib\\site-packages (from pandas>=0.25->statsmodels>=0.11.1->l2rpn-baselines) (2022.7)\n",
      "Requirement already satisfied: six in c:\\users\\maxwa\\anaconda3\\envs\\rl\\lib\\site-packages (from patsy>=0.5.2->statsmodels>=0.11.1->l2rpn-baselines) (1.16.0)\n",
      "Requirement already satisfied: urllib3<1.27,>=1.21.1 in c:\\users\\maxwa\\anaconda3\\envs\\rl\\lib\\site-packages (from requests>=2.23.0->grid2op->l2rpn-baselines) (1.26.14)\n",
      "Requirement already satisfied: certifi>=2017.4.17 in c:\\users\\maxwa\\anaconda3\\envs\\rl\\lib\\site-packages (from requests>=2.23.0->grid2op->l2rpn-baselines) (2022.12.7)\n",
      "Requirement already satisfied: charset-normalizer<3,>=2 in c:\\users\\maxwa\\anaconda3\\envs\\rl\\lib\\site-packages (from requests>=2.23.0->grid2op->l2rpn-baselines) (2.0.4)\n",
      "Requirement already satisfied: idna<4,>=2.5 in c:\\users\\maxwa\\anaconda3\\envs\\rl\\lib\\site-packages (from requests>=2.23.0->grid2op->l2rpn-baselines) (3.4)\n",
      "Requirement already satisfied: colorama in c:\\users\\maxwa\\anaconda3\\envs\\rl\\lib\\site-packages (from tqdm>=4.45.0->grid2op->l2rpn-baselines) (0.4.6)\n",
      "Requirement already satisfied: ordered-set<4.2.0,>=4.0.2 in c:\\users\\maxwa\\anaconda3\\envs\\rl\\lib\\site-packages (from deepdiff->pandapower>=2.2.2->grid2op->l2rpn-baselines) (4.1.0)\n",
      "Building wheels for collected packages: l2rpn-baselines\n",
      "  Building wheel for l2rpn-baselines (setup.py): started\n",
      "  Building wheel for l2rpn-baselines (setup.py): finished with status 'done'\n",
      "  Created wheel for l2rpn-baselines: filename=l2rpn_baselines-0.6.0.post1-py3-none-any.whl size=311387 sha256=0f405a67b3811c9d32bd142b06e9e3bb916583bd7e1c30811fee3c70d9884d3a\n",
      "  Stored in directory: c:\\users\\maxwa\\appdata\\local\\pip\\cache\\wheels\\58\\8b\\22\\0f73774556fc136865eed558a1ed7a23f60584bd3c137b6bc2\n",
      "Successfully built l2rpn-baselines\n",
      "Installing collected packages: patsy, packaging, statsmodels, l2rpn-baselines\n",
      "  Attempting uninstall: packaging\n",
      "    Found existing installation: packaging 20.9\n",
      "    Uninstalling packaging-20.9:\n",
      "      Successfully uninstalled packaging-20.9\n",
      "Successfully installed l2rpn-baselines-0.6.0.post1 packaging-23.0 patsy-0.5.3 statsmodels-0.13.5\n",
      "Note: you may need to restart the kernel to use updated packages.\n"
     ]
    },
    {
     "name": "stderr",
     "output_type": "stream",
     "text": [
      "WARNING: Ignoring invalid distribution -yrsistent (c:\\users\\maxwa\\anaconda3\\envs\\rl\\lib\\site-packages)\n",
      "WARNING: Ignoring invalid distribution -yrsistent (c:\\users\\maxwa\\anaconda3\\envs\\rl\\lib\\site-packages)\n",
      "WARNING: Ignoring invalid distribution -yrsistent (c:\\users\\maxwa\\anaconda3\\envs\\rl\\lib\\site-packages)\n",
      "    WARNING: Ignoring invalid distribution -yrsistent (c:\\users\\maxwa\\anaconda3\\envs\\rl\\lib\\site-packages)\n",
      "WARNING: Ignoring invalid distribution -yrsistent (c:\\users\\maxwa\\anaconda3\\envs\\rl\\lib\\site-packages)\n",
      "WARNING: Ignoring invalid distribution -yrsistent (c:\\users\\maxwa\\anaconda3\\envs\\rl\\lib\\site-packages)\n",
      "WARNING: Ignoring invalid distribution -yrsistent (c:\\users\\maxwa\\anaconda3\\envs\\rl\\lib\\site-packages)\n",
      "WARNING: Ignoring invalid distribution -yrsistent (c:\\users\\maxwa\\anaconda3\\envs\\rl\\lib\\site-packages)\n",
      "ERROR: pip's dependency resolver does not currently take into account all the packages that are installed. This behaviour is the source of the following dependency conflicts.\n",
      "poetry 1.1.7 requires packaging<21.0,>=20.4, but you have packaging 23.0 which is incompatible.\n",
      "WARNING: Ignoring invalid distribution -yrsistent (c:\\users\\maxwa\\anaconda3\\envs\\rl\\lib\\site-packages)\n",
      "WARNING: Ignoring invalid distribution -yrsistent (c:\\users\\maxwa\\anaconda3\\envs\\rl\\lib\\site-packages)\n",
      "WARNING: Ignoring invalid distribution -yrsistent (c:\\users\\maxwa\\anaconda3\\envs\\rl\\lib\\site-packages)\n"
     ]
    }
   ],
   "source": [
    "pip install l2rpn-baselines"
   ]
  },
  {
   "attachments": {},
   "cell_type": "markdown",
   "metadata": {},
   "source": [
    "We will download all the packages that might be necessary, which are recorded in packages.txt"
   ]
  },
  {
   "cell_type": "code",
   "execution_count": 6,
   "metadata": {},
   "outputs": [
    {
     "name": "stdout",
     "output_type": "stream",
     "text": [
      "Collecting absl-py==1.1.0Note: you may need to restart the kernel to use updated packages.\n",
      "\n",
      "  Downloading absl_py-1.1.0-py3-none-any.whl (123 kB)\n",
      "     -------------------------------------- 123.7/123.7 kB 7.6 MB/s eta 0:00:00\n",
      "Collecting acme==1.27.0\n",
      "  Downloading acme-1.27.0-py3-none-any.whl (48 kB)\n",
      "     ---------------------------------------- 48.1/48.1 kB 2.4 MB/s eta 0:00:00\n",
      "Collecting aiohttp==3.8.1\n",
      "  Downloading aiohttp-3.8.1-cp310-cp310-win_amd64.whl (555 kB)\n",
      "     ------------------------------------- 555.1/555.1 kB 11.6 MB/s eta 0:00:00\n",
      "Collecting aiohttp-cors==0.7.0\n",
      "  Downloading aiohttp_cors-0.7.0-py3-none-any.whl (27 kB)\n",
      "Collecting aioredis==2.0.1\n",
      "  Downloading aioredis-2.0.1-py3-none-any.whl (71 kB)\n",
      "     ---------------------------------------- 71.2/71.2 kB 3.8 MB/s eta 0:00:00\n",
      "Collecting aiosignal==1.2.0\n",
      "  Downloading aiosignal-1.2.0-py3-none-any.whl (8.2 kB)\n",
      "Collecting alabaster==0.7.12\n",
      "  Downloading alabaster-0.7.12-py2.py3-none-any.whl (14 kB)\n",
      "Collecting ale-py==0.7.5\n",
      "  Downloading ale_py-0.7.5-cp310-cp310-win_amd64.whl (935 kB)\n",
      "     -------------------------------------- 935.2/935.2 kB 9.9 MB/s eta 0:00:00\n",
      "Collecting antlr4-python3-runtime==4.9.3\n",
      "  Downloading antlr4-python3-runtime-4.9.3.tar.gz (117 kB)\n",
      "     -------------------------------------- 117.0/117.0 kB 6.7 MB/s eta 0:00:00\n",
      "  Preparing metadata (setup.py): started\n",
      "  Preparing metadata (setup.py): finished with status 'done'\n",
      "Requirement already satisfied: argon2-cffi==21.3.0 in c:\\users\\maxwa\\anaconda3\\envs\\rl\\lib\\site-packages (from -r packages.txt (line 10)) (21.3.0)\n",
      "Requirement already satisfied: argon2-cffi-bindings==21.2.0 in c:\\users\\maxwa\\anaconda3\\envs\\rl\\lib\\site-packages (from -r packages.txt (line 11)) (21.2.0)\n",
      "Collecting ase==3.22.1\n",
      "  Downloading ase-3.22.1-py3-none-any.whl (2.2 MB)\n",
      "     ---------------------------------------- 2.2/2.2 MB 12.7 MB/s eta 0:00:00\n",
      "Collecting astor==0.8.1\n",
      "  Downloading astor-0.8.1-py2.py3-none-any.whl (27 kB)\n",
      "Requirement already satisfied: asttokens==2.0.5 in c:\\users\\maxwa\\anaconda3\\envs\\rl\\lib\\site-packages (from -r packages.txt (line 14)) (2.0.5)\n",
      "Requirement already satisfied: astunparse==1.6.3 in c:\\users\\maxwa\\anaconda3\\envs\\rl\\lib\\site-packages (from -r packages.txt (line 15)) (1.6.3)\n",
      "Collecting async-timeout==4.0.2\n",
      "  Downloading async_timeout-4.0.2-py3-none-any.whl (5.8 kB)\n",
      "Collecting atari-py==0.2.9\n",
      "  Downloading atari-py-0.2.9.tar.gz (540 kB)\n",
      "     ------------------------------------- 540.6/540.6 kB 17.1 MB/s eta 0:00:00\n",
      "  Preparing metadata (setup.py): started\n",
      "  Preparing metadata (setup.py): finished with status 'done'\n",
      "Collecting attrs==21.4.0\n",
      "  Downloading attrs-21.4.0-py2.py3-none-any.whl (60 kB)\n",
      "     ---------------------------------------- 60.6/60.6 kB ? eta 0:00:00\n",
      "Collecting autopep8==1.6.0\n",
      "  Downloading autopep8-1.6.0-py2.py3-none-any.whl (45 kB)\n",
      "     ---------------------------------------- 45.3/45.3 kB ? eta 0:00:00\n",
      "Collecting AutoROM==0.4.2\n",
      "  Using cached AutoROM-0.4.2-py3-none-any.whl (16 kB)\n",
      "Collecting AutoROM.accept-rom-license==0.4.2\n",
      "  Downloading AutoROM.accept-rom-license-0.4.2.tar.gz (9.8 kB)\n",
      "  Installing build dependencies: started\n",
      "  Installing build dependencies: finished with status 'done'\n",
      "  Getting requirements to build wheel: started\n",
      "  Getting requirements to build wheel: finished with status 'done'\n",
      "  Preparing metadata (pyproject.toml): started\n",
      "  Preparing metadata (pyproject.toml): finished with status 'done'\n",
      "Collecting Babel==2.10.1\n",
      "  Downloading Babel-2.10.1-py3-none-any.whl (9.5 MB)\n",
      "     ---------------------------------------- 9.5/9.5 MB 6.7 MB/s eta 0:00:00\n",
      "Requirement already satisfied: backcall==0.2.0 in c:\\users\\maxwa\\anaconda3\\envs\\rl\\lib\\site-packages (from -r packages.txt (line 23)) (0.2.0)\n",
      "Collecting bayesian-optimization==1.2.0\n",
      "  Downloading bayesian-optimization-1.2.0.tar.gz (14 kB)\n",
      "  Preparing metadata (setup.py): started\n",
      "  Preparing metadata (setup.py): finished with status 'done'\n",
      "Collecting BayesianOptimization==0.0.0\n",
      "  Downloading BayesianOptimization-0.0.0-py3-none-any.whl (13 kB)\n",
      "Requirement already satisfied: beautifulsoup4==4.11.1 in c:\\users\\maxwa\\anaconda3\\envs\\rl\\lib\\site-packages (from -r packages.txt (line 26)) (4.11.1)\n",
      "Collecting bleach==5.0.0\n",
      "  Downloading bleach-5.0.0-py3-none-any.whl (160 kB)\n",
      "     ------------------------------------- 160.3/160.3 kB 10.0 MB/s eta 0:00:00\n",
      "Collecting blessings==1.7\n",
      "  Downloading blessings-1.7-py3-none-any.whl (18 kB)\n",
      "Collecting branca==0.5.0\n",
      "  Downloading branca-0.5.0-py3-none-any.whl (24 kB)\n",
      "Collecting cachetools==5.2.0\n",
      "  Downloading cachetools-5.2.0-py3-none-any.whl (9.3 kB)\n",
      "Collecting certifi==2022.5.18.1\n",
      "  Downloading certifi-2022.5.18.1-py3-none-any.whl (155 kB)\n",
      "     -------------------------------------- 155.2/155.2 kB 9.1 MB/s eta 0:00:00\n",
      "Collecting cffi==1.15.0\n",
      "  Downloading cffi-1.15.0-cp310-cp310-win_amd64.whl (180 kB)\n",
      "     ------------------------------------- 180.3/180.3 kB 11.3 MB/s eta 0:00:00\n",
      "Collecting cftime==1.6.0\n",
      "  Downloading cftime-1.6.0-cp310-none-win_amd64.whl (162 kB)\n",
      "     -------------------------------------- 162.5/162.5 kB 9.5 MB/s eta 0:00:00\n",
      "Collecting charset-normalizer==2.0.12\n",
      "  Downloading charset_normalizer-2.0.12-py3-none-any.whl (39 kB)\n",
      "Collecting chex==0.1.3\n",
      "  Downloading chex-0.1.3-py3-none-any.whl (72 kB)\n",
      "     ---------------------------------------- 72.2/72.2 kB ? eta 0:00:00\n",
      "Collecting Chronix2Grid==1.1.0.post1\n",
      "  Downloading Chronix2Grid-1.1.0.post1.tar.gz (7.2 MB)\n",
      "     ---------------------------------------- 7.2/7.2 MB 12.8 MB/s eta 0:00:00\n",
      "  Preparing metadata (setup.py): started\n",
      "  Preparing metadata (setup.py): finished with status 'done'\n",
      "Collecting click==8.1.3\n",
      "  Using cached click-8.1.3-py3-none-any.whl (96 kB)\n",
      "Collecting cloudpickle==2.1.0\n",
      "  Downloading cloudpickle-2.1.0-py3-none-any.whl (25 kB)\n",
      "Collecting cma==3.2.2\n",
      "  Downloading cma-3.2.2-py2.py3-none-any.whl (249 kB)\n",
      "     ------------------------------------- 249.1/249.1 kB 14.9 MB/s eta 0:00:00\n",
      "Collecting colorama==0.4.4\n",
      "  Downloading colorama-0.4.4-py2.py3-none-any.whl (16 kB)\n",
      "Collecting colorful==0.5.4\n",
      "  Downloading colorful-0.5.4-py2.py3-none-any.whl (201 kB)\n",
      "     ------------------------------------- 202.0/202.0 kB 12.0 MB/s eta 0:00:00\n",
      "Collecting colorlover==0.3.0\n",
      "  Downloading colorlover-0.3.0-py3-none-any.whl (8.9 kB)\n",
      "Collecting cryptography==37.0.2\n",
      "  Downloading cryptography-37.0.2-cp36-abi3-win_amd64.whl (2.4 MB)\n",
      "     ---------------------------------------- 2.4/2.4 MB 14.0 MB/s eta 0:00:00\n",
      "Collecting cufflinks==0.17.3\n",
      "  Downloading cufflinks-0.17.3.tar.gz (81 kB)\n",
      "     ---------------------------------------- 81.7/81.7 kB 4.8 MB/s eta 0:00:00\n",
      "  Preparing metadata (setup.py): started\n",
      "  Preparing metadata (setup.py): finished with status 'done'\n",
      "Collecting cvxopt==1.3.0\n",
      "  Downloading cvxopt-1.3.0-cp310-cp310-win_amd64.whl (12.7 MB)\n",
      "     --------------------------------------- 12.7/12.7 MB 12.3 MB/s eta 0:00:00\n",
      "Collecting cvxpy==1.2.1\n",
      "  Downloading cvxpy-1.2.1-cp310-cp310-win_amd64.whl (833 kB)\n",
      "     ------------------------------------- 833.2/833.2 kB 17.5 MB/s eta 0:00:00\n",
      "Requirement already satisfied: cycler==0.11.0 in c:\\users\\maxwa\\anaconda3\\envs\\rl\\lib\\site-packages (from -r packages.txt (line 47)) (0.11.0)\n",
      "Collecting cylp==0.91.5\n",
      "  Downloading cylp-0.91.5-cp310-cp310-win_amd64.whl (4.1 MB)\n",
      "     ---------------------------------------- 4.1/4.1 MB 16.5 MB/s eta 0:00:00\n",
      "Collecting debugpy==1.6.0\n",
      "  Downloading debugpy-1.6.0-cp310-cp310-win_amd64.whl (4.3 MB)\n",
      "     ---------------------------------------- 4.3/4.3 MB 13.1 MB/s eta 0:00:00\n",
      "Requirement already satisfied: decorator==5.1.1 in c:\\users\\maxwa\\anaconda3\\envs\\rl\\lib\\site-packages (from -r packages.txt (line 50)) (5.1.1)\n",
      "Requirement already satisfied: defusedxml==0.7.1 in c:\\users\\maxwa\\anaconda3\\envs\\rl\\lib\\site-packages (from -r packages.txt (line 51)) (0.7.1)\n",
      "Collecting Deprecated==1.2.13\n",
      "  Downloading Deprecated-1.2.13-py2.py3-none-any.whl (9.6 kB)\n",
      "Collecting deprecation==2.1.0\n",
      "  Downloading deprecation-2.1.0-py2.py3-none-any.whl (11 kB)\n"
     ]
    },
    {
     "name": "stderr",
     "output_type": "stream",
     "text": [
      "WARNING: Ignoring invalid distribution -yrsistent (c:\\users\\maxwa\\anaconda3\\envs\\rl\\lib\\site-packages)\n",
      "WARNING: Ignoring invalid distribution -yrsistent (c:\\users\\maxwa\\anaconda3\\envs\\rl\\lib\\site-packages)\n",
      "ERROR: Could not find a version that satisfies the requirement dgl==0.8.2 (from versions: 0.1.2, 0.1.3, 0.9.0, 0.9.1, 1.0.0, 1.0.1)\n",
      "ERROR: No matching distribution found for dgl==0.8.2\n",
      "WARNING: Ignoring invalid distribution -yrsistent (c:\\users\\maxwa\\anaconda3\\envs\\rl\\lib\\site-packages)\n",
      "WARNING: Ignoring invalid distribution -yrsistent (c:\\users\\maxwa\\anaconda3\\envs\\rl\\lib\\site-packages)\n",
      "WARNING: Ignoring invalid distribution -yrsistent (c:\\users\\maxwa\\anaconda3\\envs\\rl\\lib\\site-packages)\n"
     ]
    }
   ],
   "source": [
    "pip install -r packages.txt"
   ]
  },
  {
   "attachments": {},
   "cell_type": "markdown",
   "metadata": {},
   "source": [
    "## Get the Data\n",
    "Once grid2op is installed, we can get the competition data (approximately 2.0Gb) directly from the internet. training dataset which is what we will download. It contains 32 years of data, with 52 weeks in each each year, 7 days in each week and 288 steps in each day. The opponent used is the same on all the datasets (based on community feedback for the warmup set, we might adapt it for the validation and test set. It that is the case a communication will be made in due time). The current opponent uses the observation to chose which attack to perform. It does not use any information of the agent."
   ]
  },
  {
   "cell_type": "code",
   "execution_count": 4,
   "metadata": {},
   "outputs": [
    {
     "name": "stderr",
     "output_type": "stream",
     "text": [
      "c:\\Users\\maxwa\\anaconda3\\envs\\RL\\lib\\site-packages\\grid2op\\Backend\\PandaPowerBackend.py:31: UserWarning: Numba cannot be loaded. You will gain possibly massive speed if installing it by \n",
      "\tc:\\Users\\maxwa\\anaconda3\\envs\\RL\\python.exe -m pip install numba\n",
      "\n",
      "  warnings.warn(\n",
      "c:\\Users\\maxwa\\anaconda3\\envs\\RL\\lib\\site-packages\\grid2op\\MakeEnv\\Make.py:435: UserWarning: It is the first time you use the environment \"l2rpn_wcci_2022\".\n",
      "We will attempt to download this environment from remote\n",
      "  warnings.warn(_MAKE_FIRST_TIME_WARN.format(dataset_name))\n"
     ]
    },
    {
     "name": "stdout",
     "output_type": "stream",
     "text": [
      "downloading the training data, this may take a while.\n"
     ]
    },
    {
     "name": "stderr",
     "output_type": "stream",
     "text": [
      "a822a879-31a4-4634-a66a-eb851ec369c9: 1.71GB [05:37, 5.09MB/s]                               \n"
     ]
    },
    {
     "name": "stdout",
     "output_type": "stream",
     "text": [
      "Extract the tar archive in \"C:\\Users\\maxwa\\data_grid2op\"\n",
      "WARN: file \"C:\\Users\\maxwa/data_grid2op\\a822a879-31a4-4634-a66a-eb851ec369c9\" could not be found. You might need to manually delete it.\n",
      "Environment: \"l2rpn_wcci_2022\" is not up to date, but we did not found any files to update. IF this environment is officially supported by grid2op (see full list at https://grid2op.readthedocs.io/en/latest/available_envs.html#description-of-some-environments) Please write an issue at :\n",
      "\t\thttps://github.com/rte-france/Grid2Op/issues/new?assignees=&labels=question&title=Environment%20l2rpn_wcci_2022%20is%20not%20up%20to%20date%20but%20I%20cannot%20update%20it.&body=%3c%21%2d%2dDescribe%20shortly%20the%20context%20%2d%2d%3e%0d\n",
      "You may now use the environment \"l2rpn_wcci_2022\" with the available data by invoking:\n",
      "\tenv = grid2op.make(\"l2rpn_wcci_2022\")\n"
     ]
    },
    {
     "name": "stderr",
     "output_type": "stream",
     "text": [
      "<__array_function__ internals>:200: RuntimeWarning: invalid value encountered in cast\n"
     ]
    }
   ],
   "source": [
    "import grid2op\n",
    "env = grid2op.make(\"l2rpn_wcci_2022\") "
   ]
  }
 ],
 "metadata": {
  "kernelspec": {
   "display_name": "RL",
   "language": "python",
   "name": "rl"
  },
  "language_info": {
   "codemirror_mode": {
    "name": "ipython",
    "version": 3
   },
   "file_extension": ".py",
   "mimetype": "text/x-python",
   "name": "python",
   "nbconvert_exporter": "python",
   "pygments_lexer": "ipython3",
   "version": "3.10.9"
  },
  "orig_nbformat": 4
 },
 "nbformat": 4,
 "nbformat_minor": 2
}
